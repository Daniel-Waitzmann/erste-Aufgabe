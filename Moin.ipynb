{
 "cells": [
  {
   "cell_type": "code",
   "execution_count": 3,
   "id": "60e1eae0-b5c4-42dd-a484-5cf105a33025",
   "metadata": {},
   "outputs": [
    {
     "name": "stdout",
     "output_type": "stream",
     "text": [
      "Moin!\n"
     ]
    }
   ],
   "source": [
    "print('Moin!')"
   ]
  },
  {
   "cell_type": "code",
   "execution_count": null,
   "id": "b341d785-e944-41c6-9ae8-20cbe7e88d86",
   "metadata": {},
   "outputs": [],
   "source": []
  }
 ],
 "metadata": {
  "kernelspec": {
   "display_name": "Python [conda env:pherData]",
   "language": "python",
   "name": "conda-env-pherData-py"
  },
  "language_info": {
   "codemirror_mode": {
    "name": "ipython",
    "version": 3
   },
   "file_extension": ".py",
   "mimetype": "text/x-python",
   "name": "python",
   "nbconvert_exporter": "python",
   "pygments_lexer": "ipython3",
   "version": "3.8.12"
  }
 },
 "nbformat": 4,
 "nbformat_minor": 5
}
